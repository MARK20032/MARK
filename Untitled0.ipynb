{
  "nbformat": 4,
  "nbformat_minor": 0,
  "metadata": {
    "colab": {
      "provenance": []
    },
    "kernelspec": {
      "name": "python3",
      "display_name": "Python 3"
    },
    "language_info": {
      "name": "python"
    }
  },
  "cells": [
    {
      "cell_type": "markdown",
      "source": [
        "Desarrolla un algoritmo que le pida al usuario por su nombre y que lo salude con su nombre, excepto si se llama “Ana”, “Juan”, y “Pedro”."
      ],
      "metadata": {
        "id": "pM4Hnw1WkuVH"
      }
    },
    {
      "cell_type": "code",
      "source": [
        "nombre = input(\"Ingrese su nombre: \")\n",
        "\n",
        "if nombre.lower() == \"ana\" or nombre.lower() == \"juan\" or nombre.lower() == \"pedro\":\n",
        "    print(\"Hola, amigo/a!\")\n",
        "else:\n",
        "    print(\"Hola, \" + nombre + \"!\")"
      ],
      "metadata": {
        "id": "gOiwZKXTkyUx"
      },
      "execution_count": null,
      "outputs": []
    },
    {
      "cell_type": "markdown",
      "source": [
        "Desarrolla un algoritmo que por medio de una función, le pida al usuario una lista de  frutas y como resultado invierta el sentido de la lista. "
      ],
      "metadata": {
        "id": "mjMgpMhsmlGT"
      }
    },
    {
      "cell_type": "code",
      "source": [
        "def invertir_lista_frutas():\n",
        "    frutas = input(\"Ingrese una lista de frutas separadas por comas: \"MANZANA\"\"PEPINO\"\"MELON\")\n",
        "    lista_frutas = frutas.split(\",\")\n",
        "    lista_invertida = list(reversed(lista_frutas))\n",
        "    return lista_invertida"
      ],
      "metadata": {
        "id": "3c4Fhaowmmnk"
      },
      "execution_count": null,
      "outputs": []
    },
    {
      "cell_type": "markdown",
      "source": [
        "Desarrolla un algoritmo que le pregunte al usuario cuántos números de la serie de Fibonnaci quiere generar y que al final los imprima. "
      ],
      "metadata": {
        "id": "O21OMmLPmuOn"
      }
    },
    {
      "cell_type": "code",
      "source": [
        "def fibonacci(n):\n",
        "    if n == 0:\n",
        "        return []\n",
        "    elif n == 1:\n",
        "        return [0]\n",
        "    elif n == 2:\n",
        "        return [0, 1]\n",
        "    else:\n",
        "        fib_list = [0, 1]\n",
        "        for i in range(2, n):\n",
        "            fib_list.append(fib_list[i-1] + fib_list[i-2])\n",
        "        return fib_list\n",
        "\n",
        "cantidad_numeros = int(input(\"¿Cuántos números de la serie de Fibonacci quieres generar? \"))\n",
        "numeros_fibonacci = fibonacci(cantidad_numeros)\n",
        "print(numeros_fibonacci)\n"
      ],
      "metadata": {
        "id": "iu0_SPhqmz79"
      },
      "execution_count": 1,
      "outputs": []
    }
  ]
}